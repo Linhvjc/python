{
 "cells": [
  {
   "cell_type": "code",
   "execution_count": 1,
   "metadata": {},
   "outputs": [],
   "source": [
    "def read_lectures(lecture_file, keys=[\"[LECTURE]\", \"[IMAGE]\", \"[Q&A]\", \"[END]\"]):\n",
    "    # lecture_file is a plain text file (.txt)\n",
    "    # kb is a knowledge based in dictionary data type\n",
    "    kb = {}\n",
    "    with open(lecture_file, 'r') as lf:\n",
    "        lecture = lf.readlines()\n",
    "        doc_len = len(lecture)\n",
    "        print(\"Length of document: \", doc_len)\n",
    "        index = 0\n",
    "        keys_index = []\n",
    "        while index < doc_len:\n",
    "            line = lecture[index]\n",
    "            print(line)\n",
    "            line = line.strip()\n",
    "            if len(line) == 0:\n",
    "                continue\n",
    "            if line[0] ==\"#\":\n",
    "                continue\n",
    "            if line in keys:\n",
    "                keys_index.append(index)\n",
    "            index += 1\n",
    "            print(\"index: \", index)\n",
    "        print(\"All key index: \", keys_index)\n",
    "        for i in range(len(keys_index)):\n",
    "            idx = keys_index[i]\n",
    "            key = lecture[idx]\n",
    "            if key != \"[END]\":\n",
    "                next_idx = keys_index[i+1]\n",
    "                kb[key] = tuple(lecture[idx+1: next_idx])\n",
    "    return kb\n",
    "                "
   ]
  },
  {
   "cell_type": "code",
   "execution_count": 2,
   "metadata": {},
   "outputs": [],
   "source": [
    "kb = read_lectures(\"neural_network.txt\", keys=[\"[LECTURE]\", \"[IMAGE]\", \"[Q&A]\", \"[END]\"])"
   ]
  }
 ],
 "metadata": {
  "kernelspec": {
   "display_name": "Python 3.10.8 64-bit (microsoft store)",
   "language": "python",
   "name": "python3"
  },
  "language_info": {
   "codemirror_mode": {
    "name": "ipython",
    "version": 3
   },
   "file_extension": ".py",
   "mimetype": "text/x-python",
   "name": "python",
   "nbconvert_exporter": "python",
   "pygments_lexer": "ipython3",
   "version": "3.10.8"
  },
  "orig_nbformat": 4,
  "vscode": {
   "interpreter": {
    "hash": "a742bf6aefb159002d4001b3f2130f4f12db75c61b38b59b493b78dbeed06b53"
   }
  }
 },
 "nbformat": 4,
 "nbformat_minor": 2
}
