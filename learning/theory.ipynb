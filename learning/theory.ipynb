{
 "cells": [
  {
   "cell_type": "code",
   "execution_count": 3,
   "metadata": {},
   "outputs": [
    {
     "name": "stdout",
     "output_type": "stream",
     "text": [
      "Hello world\n"
     ]
    }
   ],
   "source": [
    "print(\"Hello world\")\n",
    "#Hello"
   ]
  },
  {
   "cell_type": "code",
   "execution_count": 5,
   "metadata": {},
   "outputs": [
    {
     "name": "stdout",
     "output_type": "stream",
     "text": [
      "12.1\n",
      "6\n"
     ]
    },
    {
     "data": {
      "text/plain": [
       "float"
      ]
     },
     "execution_count": 5,
     "metadata": {},
     "output_type": "execute_result"
    }
   ],
   "source": [
    "#Variable\n",
    "a = 5.1\n",
    "b = 7\n",
    "sum = a+b\n",
    "print(sum)\n",
    "\n",
    "c,d,e = 1,2,3\n",
    "print(c+d+e);\n",
    "type(a) # kiem tra type"
   ]
  },
  {
   "cell_type": "code",
   "execution_count": 15,
   "metadata": {},
   "outputs": [
    {
     "name": "stdout",
     "output_type": "stream",
     "text": [
      "3.33333333333333333333333333333\n",
      "<class 'decimal.Decimal'>\n",
      "7/6\n"
     ]
    },
    {
     "data": {
      "text/plain": [
       "fractions.Fraction"
      ]
     },
     "execution_count": 15,
     "metadata": {},
     "output_type": "execute_result"
    }
   ],
   "source": [
    "#Number\n",
    "\n",
    "# lay toan bo noi dung cua thu vien decimal\n",
    "from decimal import *\n",
    "from fractions import Fraction\n",
    "\n",
    "#lay toi da 30 chu so phan nguyen va phan thap phan Decimal\n",
    "getcontext().prec = 30\n",
    "\n",
    "dec = Decimal(10)/Decimal(3)\n",
    "print(dec) \n",
    "print(type(dec))\n",
    "\n",
    "#Fraction (phan so)\n",
    "frac1 = Fraction(6,9)\n",
    "frac2 = Fraction(1,2)\n",
    "frac3 = frac1 +frac2\n",
    "print(frac3)\n",
    "type(frac3)"
   ]
  },
  {
   "cell_type": "code",
   "execution_count": 24,
   "metadata": {},
   "outputs": [
    {
     "name": "stdout",
     "output_type": "stream",
     "text": [
      "\" I'm Linh \"\n",
      "\n",
      "line1\n",
      "line2\n",
      "line3\n",
      "\n",
      "\u0007\n"
     ]
    }
   ],
   "source": [
    "#String (section1)\n",
    "str = \"\\\" I'm Linh \\\"\"\n",
    "print(str)\n",
    "\n",
    "#''' or \"\"\"\n",
    "str2 = '''\n",
    "line1\n",
    "line2\n",
    "line3\n",
    "'''\n",
    "print(str2)"
   ]
  },
  {
   "cell_type": "code",
   "execution_count": 35,
   "metadata": {},
   "outputs": [
    {
     "name": "stdout",
     "output_type": "stream",
     "text": [
      "hello \\nam\n",
      "True\n",
      "o\n",
      "ell\n",
      "ello\n",
      "olleh\n",
      "hlo\n",
      "hello linh\n"
     ]
    }
   ],
   "source": [
    "#String (section2)\n",
    "strA = r'hello \\nam'\n",
    "print(strA)\n",
    "strB = 'hello'\n",
    "boolContain = strB in strA #ktra strB co nam trong strA khong\n",
    "\n",
    "print(boolContain)\n",
    "\n",
    "print(strB[len(strB) - 1])\n",
    "print(strB[1:4])\n",
    "print(strB[1:None])\n",
    "print(strB[::-1])\n",
    "print(strB[::2])\n",
    "print(f'{strB} linh')\n",
    "\n",
    "\n"
   ]
  },
  {
   "cell_type": "code",
   "execution_count": 39,
   "metadata": {},
   "outputs": [
    {
     "name": "stdout",
     "output_type": "stream",
     "text": [
      "+ ------ + --------------- + --------------- +\n",
      "| ID     |    Ho Va Ten    |        Noi Sinh |\n",
      "| 1      | Phan Nhat Linh  |     Quang Trach |\n",
      "| 2      |  Doan Dieu Ha   |          Ba Don |\n",
      "+ ------ + --------------- + --------------- +\n"
     ]
    }
   ],
   "source": [
    "#String(Section 3)\n",
    "row_1 = '+ {:-<6} + {:-^15} + {:->15} +'.format('', '', '')\n",
    "row_2 = '| {:<6} | {:^15} | {:>15} |'.format('ID', 'Ho Va Ten', 'Noi Sinh')\n",
    "row_3 = '| {:<6} | {:^15} | {:>15} |'.format('1', 'Phan Nhat Linh', 'Quang Trach')\n",
    "row_4 = '| {:<6} | {:^15} | {:>15} |'.format('2', 'Doan Dieu Ha', 'Ba Don')\n",
    "row_5 = '+ {:-<6} + {:-^15} + {:->15} +'.format('', '', '')\n",
    "\n",
    "print(row_1)\n",
    "print(row_2)\n",
    "print(row_3)\n",
    "print(row_4)\n",
    "print(row_5)\n"
   ]
  },
  {
   "cell_type": "code",
   "execution_count": 6,
   "metadata": {},
   "outputs": [
    {
     "name": "stdout",
     "output_type": "stream",
     "text": [
      "| 0      |      hello      | \n",
      "| 1      |      hello      | \n",
      "| 2      |      hello      | \n",
      "| 3      |      hello      | \n",
      "| 4      |      hello      | \n",
      "| 5      |      hello      | \n",
      "+ ------ + --------------- +\n",
      "| STT    |  Số ngẫu nhiên  | \n",
      "+ ------ + --------------- +\n"
     ]
    }
   ],
   "source": [
    "row_11 = '+ {:-<6} + {:-^15} +'.format('', '')\n",
    "row_12 = '| {:<6} | {:^15} | '.format('STT', 'Số ngẫu nhiên')\n",
    "for x in range(6):\n",
    "  row = '| {:<6} | {:^15} | '.format(x, 'hello')\n",
    "  print(row)\n",
    "row_13 = '+ {:-<6} + {:-^15} +'.format('', '')\n",
    "\n",
    "print(row_11)\n",
    "print(row_12)\n",
    "print(row_13)\n"
   ]
  },
  {
   "cell_type": "code",
   "execution_count": 11,
   "metadata": {},
   "outputs": [
    {
     "ename": "ModuleNotFoundError",
     "evalue": "No module named 'pandas'",
     "output_type": "error",
     "traceback": [
      "\u001b[1;31m---------------------------------------------------------------------------\u001b[0m",
      "\u001b[1;31mModuleNotFoundError\u001b[0m                       Traceback (most recent call last)",
      "Cell \u001b[1;32mIn [11], line 1\u001b[0m\n\u001b[1;32m----> 1\u001b[0m \u001b[39mimport\u001b[39;00m \u001b[39mpandas\u001b[39;00m \u001b[39mas\u001b[39;00m \u001b[39mpd\u001b[39;00m\n\u001b[0;32m      3\u001b[0m data \u001b[39m=\u001b[39m {\u001b[39m'\u001b[39m\u001b[39mProduct\u001b[39m\u001b[39m'\u001b[39m: [\u001b[39m'\u001b[39m\u001b[39mDesktop Computer\u001b[39m\u001b[39m'\u001b[39m, \u001b[39m'\u001b[39m\u001b[39mPrinter\u001b[39m\u001b[39m'\u001b[39m, \u001b[39m'\u001b[39m\u001b[39mTablet\u001b[39m\u001b[39m'\u001b[39m, \u001b[39m'\u001b[39m\u001b[39mMonitor\u001b[39m\u001b[39m'\u001b[39m],\n\u001b[0;32m      4\u001b[0m         \u001b[39m'\u001b[39m\u001b[39mPrice\u001b[39m\u001b[39m'\u001b[39m: [\u001b[39m1200\u001b[39m, \u001b[39m150\u001b[39m, \u001b[39m300\u001b[39m, \u001b[39m450\u001b[39m]\n\u001b[0;32m      5\u001b[0m         }\n\u001b[0;32m      7\u001b[0m df \u001b[39m=\u001b[39m pd\u001b[39m.\u001b[39mDataFrame(data, columns\u001b[39m=\u001b[39m[\u001b[39m'\u001b[39m\u001b[39mProduct\u001b[39m\u001b[39m'\u001b[39m, \u001b[39m'\u001b[39m\u001b[39mPrice\u001b[39m\u001b[39m'\u001b[39m])\n",
      "\u001b[1;31mModuleNotFoundError\u001b[0m: No module named 'pandas'"
     ]
    }
   ],
   "source": [
    "import pandas as pd\n",
    "\n",
    "data = {'Product': ['Desktop Computer', 'Printer', 'Tablet', 'Monitor'],\n",
    "        'Price': [1200, 150, 300, 450]\n",
    "        }\n",
    "\n",
    "df = pd.DataFrame(data, columns=['Product', 'Price'])\n",
    "\n",
    "df.to_excel(r'D:\\Python\\export_dataframe.xlsx',\n",
    "            index=False, header=True)\n"
   ]
  }
 ],
 "metadata": {
  "kernelspec": {
   "display_name": "Python 3.10.7 64-bit (microsoft store)",
   "language": "python",
   "name": "python3"
  },
  "language_info": {
   "codemirror_mode": {
    "name": "ipython",
    "version": 3
   },
   "file_extension": ".py",
   "mimetype": "text/x-python",
   "name": "python",
   "nbconvert_exporter": "python",
   "pygments_lexer": "ipython3",
   "version": "3.10.8"
  },
  "orig_nbformat": 4,
  "vscode": {
   "interpreter": {
    "hash": "a742bf6aefb159002d4001b3f2130f4f12db75c61b38b59b493b78dbeed06b53"
   }
  }
 },
 "nbformat": 4,
 "nbformat_minor": 2
}
